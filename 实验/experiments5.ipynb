{
 "cells": [
  {
   "cell_type": "markdown",
   "metadata": {},
   "source": [
    "## 第一题：停止逆转我的单词"
   ]
  },
  {
   "cell_type": "markdown",
   "metadata": {},
   "source": [
    "难度： 6kyu\n",
    "\n",
    "编写一个函数，接收一个或多个单词的字符串，并返回相同的字符串，但所有5个或更多的字母单词都是相反的（就像这个Kata的名字一样）。传入的字符串将只由字母和空格组成。只有当出现一个以上的单词时，才会包括空格。\n",
    "例如：\n",
    "\n",
    "```python\n",
    "spinWords( \"Hey fellow warriors\" ) => returns \"Hey wollef sroirraw\" \n",
    "spinWords( \"This is a test\") => returns \"This is a test\" \n",
    "spinWords( \"This is another test\" )=> returns \"This is rehtona test\"\n",
    "```\n",
    "\n",
    "代码提交地址：\n",
    "<https://www.codewars.com/kata/5264d2b162488dc400000001>\n",
    "\n",
    "提示：\n",
    "\n",
    "- 利用str的split方法可以将字符串分为单词列表\n",
    "例如：\n",
    "\n",
    "```python\n",
    "words = \"hey fellow warrior\".split()\n",
    "# words should be ['hey', 'fellow', 'warrior']\n",
    "```\n",
    "\n",
    "- 利用列表推导将长度大于等于5的单词反转(利用切片word[::-1])\n",
    "- 最后使用str的join方法连结列表中的单词。"
   ]
  },
  {
   "cell_type": "code",
   "execution_count": 1,
   "metadata": {},
   "outputs": [],
   "source": [
    "def spin_words(sentence):\n",
    "    # Your code goes here\n",
    "    lists=sentence.split()#字符串按空格分开\n",
    "    ret=[]\n",
    "    \n",
    "    for list in lists:\n",
    "        if len(list)>=5:\n",
    "            ret.append(''.join(reversed(list)))\n",
    "        else:\n",
    "            ret.append(list)\n",
    "        ret.append(' ')\n",
    "    ret.pop()\n",
    "    return ''.join(ret)"
   ]
  },
  {
   "cell_type": "code",
   "execution_count": 3,
   "metadata": {},
   "outputs": [
    {
     "data": {
      "text/plain": [
       "'This ecnetnes is a ecnetnes'"
      ]
     },
     "execution_count": 3,
     "metadata": {},
     "output_type": "execute_result"
    }
   ],
   "source": [
    "#测试用例\n",
    "spin_words(\"Hey fellow warriors\")\n",
    "spin_words(\"This sentence is a sentence\")"
   ]
  },
  {
   "cell_type": "markdown",
   "metadata": {},
   "source": [
    "## 第二题： 发现离群的数(Find The Parity Outlier)\n",
    "\n",
    "难度：6kyu\n",
    "\n",
    "给你一个包含整数的数组（其长度至少为3，但可能非常大）。该数组要么完全由奇数组成，要么完全由偶数组成，除了一个整数N。请写一个方法，以该数组为参数，返回这个 \"离群 \"的N。\n",
    "\n",
    "例如：\n",
    "\n",
    "```python\n",
    "[2, 4, 0, 100, 4, 11, 2602, 36]\n",
    "# Should return: 11 (the only odd number)\n",
    "\n",
    "[160, 3, 1719, 19, 11, 13, -21]\n",
    "# Should return: 160 (the only even number)\n",
    "```\n",
    "\n",
    "代码提交地址：\n",
    "<https://www.codewars.com/kata/5526fc09a1bbd946250002dc>"
   ]
  },
  {
   "cell_type": "code",
   "execution_count": 5,
   "metadata": {},
   "outputs": [],
   "source": [
    "def find_outlier(integers):\n",
    "    lists1=[integer for integer in integers if integer%2==0]\n",
    "    lists2=[integer for integer in integers if integer%2!=0]\n",
    "    if len(lists1)>len(lists2):\n",
    "        return lists2[0]\n",
    "    else:\n",
    "        return lists1[0]"
   ]
  },
  {
   "cell_type": "code",
   "execution_count": 7,
   "metadata": {},
   "outputs": [
    {
     "name": "stdout",
     "output_type": "stream",
     "text": [
      "160\n",
      "3\n"
     ]
    }
   ],
   "source": [
    "#测试用例\n",
    "print(find_outlier([160, 3, 1719, 19, 11, 13, -21]))\n",
    "print(find_outlier([2, 4, 6, 8, 10, 3]))"
   ]
  },
  {
   "cell_type": "markdown",
   "metadata": {},
   "source": [
    "## 第三题： 检测Pangram\n",
    "\n",
    "难度：6kyu\n",
    "\n",
    "pangram是一个至少包含每个字母一次的句子。例如，\"The quick brown fox jumps over the lazy dog \"这个句子就是一个pangram，因为它至少使用了一次字母A-Z（大小写不相关）。\n",
    "\n",
    "给定一个字符串，检测它是否是一个pangram。如果是则返回`True`，如果不是则返回`False`。忽略数字和标点符号。\n",
    "代码提交地址：\n",
    "<https://www.codewars.com/kata/545cedaa9943f7fe7b000048>"
   ]
  },
  {
   "cell_type": "code",
   "execution_count": 9,
   "metadata": {},
   "outputs": [],
   "source": [
    "def is_pangram(s):\n",
    "    s=s.lower()\n",
    "    lists=['a','b','c','d','e','f','g','h','i','j','k','l',\n",
    "        'm','n','o','p','q','r','s','t','u','v','w','x','y','z']\n",
    "    for list in lists:\n",
    "        if list not in s:\n",
    "            return False\n",
    "    return True"
   ]
  },
  {
   "cell_type": "code",
   "execution_count": 10,
   "metadata": {},
   "outputs": [
    {
     "name": "stdout",
     "output_type": "stream",
     "text": [
      "True\n",
      "False\n"
     ]
    }
   ],
   "source": [
    "#测试用例\n",
    "print(is_pangram(\"The quick, brown fox jumps over the lazy dog!\"))\n",
    "print(is_pangram(\"1bcdefghijklmnopqrstuvwxyz\"))"
   ]
  },
  {
   "cell_type": "markdown",
   "metadata": {},
   "source": [
    "## 第四题： 数独解决方案验证\n",
    "\n",
    "难度：6kyu\n",
    "\n",
    "数独背景\n",
    "\n",
    "数独是一种在 9x9 网格上进行的游戏。游戏的目标是用 1 到 9 的数字填充网格的所有单元格，以便每一列、每一行和九个 3x3 子网格（也称为块）中的都包含数字 1 到 9。更多信息请访问：<http://en.wikipedia.org/wiki/Sudoku>\n",
    "\n",
    "编写一个函数接受一个代表数独板的二维数组，如果它是一个有效的解决方案则返回 true，否则返回 false。数独板的单元格也可能包含 0，这将代表空单元格。包含一个或多个零的棋盘被认为是无效的解决方案。棋盘总是 9 x 9 格，每个格只包含 0 到 9 之间的整数。\n",
    "\n",
    "代码提交地址：\n",
    "<https://www.codewars.com/kata/63d1bac72de941033dbf87ae>"
   ]
  },
  {
   "cell_type": "code",
   "execution_count": 19,
   "metadata": {},
   "outputs": [
    {
     "data": {
      "text/plain": [
       "False"
      ]
     },
     "execution_count": 19,
     "metadata": {},
     "output_type": "execute_result"
    }
   ],
   "source": [
    "def validate_sudoku(board):\n",
    "    lists1={1,2,3,4,5,6,7,8,9}\n",
    "\n",
    "    lists2=list(zip(*board))\n",
    "    #print(lists2)\n",
    "    for lists in board:\n",
    "        if set(lists) != lists1:\n",
    "            return False\n",
    "    for lists in lists2:\n",
    "        if set(lists) != lists1:\n",
    "            return False\n",
    "    #检查每个 3x3 子方格\n",
    "    for i in range(0,9,3):\n",
    "        for j in range(0,9,3):\n",
    "            list3=[board[x][y] for x in range(i,i+3) for y in range(j,j+3)]\n",
    "            if set(list3) != lists1:\n",
    "                return False\n",
    "    return True\n",
    "\n"
   ]
  },
  {
   "cell_type": "code",
   "execution_count": 20,
   "metadata": {},
   "outputs": [
    {
     "data": {
      "text/plain": [
       "False"
      ]
     },
     "execution_count": 20,
     "metadata": {},
     "output_type": "execute_result"
    }
   ],
   "source": [
    "#测试用例\n",
    "#测试用例\n",
    "validate_sudoku([[1,2,3,4,5,6,7,8,9],\n",
    "\t\t\t[1,2,3,4,5,6,7,8,9],\n",
    "\t\t\t[1,2,3,4,5,6,7,8,9],\n",
    "\t\t\t[1,2,3,4,5,6,7,8,9],\n",
    "\t\t\t[1,2,3,4,5,6,7,8,9],\n",
    "\t\t\t[1,2,3,4,5,6,7,8,9],\n",
    "\t\t\t[1,2,3,4,5,6,7,8,9],\n",
    "\t\t\t[1,2,3,4,5,6,7,8,9],\n",
    "\t\t\t[1,2,3,4,5,6,7,8,9]])"
   ]
  },
  {
   "cell_type": "markdown",
   "metadata": {},
   "source": [
    "## 第五题： 疯狂的彩色三角形\n",
    "\n",
    "难度： 2kyu\n",
    "\n",
    "一个彩色的三角形是由一排颜色组成的，每一排都是红色、绿色或蓝色。连续的几行，每一行都比上一行少一种颜色，是通过考虑前一行中的两个相接触的颜色而产生的。如果这些颜色是相同的，那么新的一行就使用相同的颜色。如果它们不同，则在新的一行中使用缺失的颜色。这个过程一直持续到最后一行，只有一种颜色被生成。\n",
    "\n",
    "例如：\n",
    "```python\n",
    "Colour here:            G G        B G        R G        B R\n",
    "Becomes colour here:     G          R          B          G\n",
    "```\n",
    "\n",
    "\n",
    "一个更大的三角形例子：\n",
    "\n",
    "```python\n",
    "R R G B R G B B\n",
    " R B R G B R B\n",
    "  G G B R G G\n",
    "   G R G B G\n",
    "    B B R R\n",
    "     B G R\n",
    "      R B\n",
    "       G\n",
    "```\n",
    "\n",
    "你将得到三角形的第一行字符串，你的工作是返回最后的颜色，这将出现在最下面一行的字符串。在上面的例子中，你将得到 \"RRGBRGBB\"，你应该返回 \"G\"。\n",
    "限制条件： 1 <= length(row) <= 10 ** 5\n",
    "输入的字符串将只包含大写字母'B'、'G'或'R'。\n",
    "\n",
    "例如：\n",
    "\n",
    "```python\n",
    "triangle('B') == 'B'\n",
    "triangle('GB') == 'R'\n",
    "triangle('RRR') == 'R'\n",
    "triangle('RGBG') == 'B'\n",
    "triangle('RBRGBRB') == 'G'\n",
    "triangle('RBRGBRBGGRRRBGBBBGG') == 'G'\n",
    "```\n",
    "\n",
    "代码提交地址：\n",
    "<https://www.codewars.com/kata/5a331ea7ee1aae8f24000175>"
   ]
  },
  {
   "cell_type": "code",
   "execution_count": 1,
   "metadata": {},
   "outputs": [],
   "source": [
    "def triangle(row):\n",
    "        powers_of_3 = list(reversed([3**i+1 for i in range(10) if (3**i)<=100000]))\n",
    "        # 找到小于100000的所有的3的幂加1，从大到小排序\n",
    "        #print(powers_of_3)\n",
    "        color = {'GG':'G', 'BB':'B', 'RR':'R', 'BR':'G', \n",
    "        'BG':'R', 'GB':'R', 'GR':'B', 'RG':'B', 'RB':'G'}\n",
    "        for x in powers_of_3:\n",
    "                while len(row)>=x:\n",
    "                        row=[color[row[i]+row[x+i-1]] for i in range(len(row)-x+1)]\n",
    "\n",
    "        return row[0]"
   ]
  },
  {
   "cell_type": "code",
   "execution_count": 2,
   "metadata": {},
   "outputs": [
    {
     "name": "stdout",
     "output_type": "stream",
     "text": [
      "B:B\n",
      "GB:R\n",
      "RRR:R\n",
      "RGBG:B\n",
      "RBRGBRB:G\n",
      "RBRGBRBGGRRRBGBBBGG:G\n"
     ]
    }
   ],
   "source": [
    "basic_cases = [\n",
    "    'B',\n",
    "    'GB',\n",
    "    'RRR',\n",
    "    'RGBG',\n",
    "    'RBRGBRB', \n",
    "    'RBRGBRBGGRRRBGBBBGG'\n",
    "]\n",
    "for basic_case in basic_cases:\n",
    "    print(basic_case+':'+triangle(basic_case))"
   ]
  }
 ],
 "metadata": {
  "kernelspec": {
   "display_name": "Python 3",
   "language": "python",
   "name": "python3"
  },
  "language_info": {
   "codemirror_mode": {
    "name": "ipython",
    "version": 3
   },
   "file_extension": ".py",
   "mimetype": "text/x-python",
   "name": "python",
   "nbconvert_exporter": "python",
   "pygments_lexer": "ipython3",
   "version": "3.11.5"
  }
 },
 "nbformat": 4,
 "nbformat_minor": 2
}
