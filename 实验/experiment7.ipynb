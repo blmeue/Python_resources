{
 "cells": [
  {
   "cell_type": "markdown",
   "metadata": {},
   "source": [
    "# 实验七 Python面向对象编程"
   ]
  },
  {
   "cell_type": "markdown",
   "metadata": {},
   "source": [
    "# 第一题：面向对象的海盗\n",
    "难度： 8kyu\n",
    "\n",
    "啊哈，伙计!\n",
    "\n",
    "你是一个小海盗团的首领。而且你有一个计划。在OOP的帮助下，你希望建立一个相当有效的系统来识别船上有大量战利品的船只。\n",
    "对你来说，不幸的是，现在的人很重，那么你怎么知道一艘船上装的是黄金而不是人呢？\n",
    "\n",
    "你首先要写一个通用的船舶类。\n",
    "\n",
    "```python\n",
    "class Ship:\n",
    "    def __init__(self, draft, crew):\n",
    "        self.draft = draft\n",
    "        self.crew = crew\n",
    "```\n",
    "\n",
    "每当你的间谍看到一艘新船进入码头，他们将根据观察结果创建一个新的船舶对象。\n",
    "\n",
    "- `draft`吃水 - 根据船在水中的高度来估计它的重量\n",
    "- `crew`船员 - 船上船员的数量\n",
    "\n",
    "`Titanic = Ship(15, 10)`\n",
    "\n",
    "任务\n",
    "\n",
    "你可以访问船舶的 \"draft(吃水) \"和 \"crew(船员)\"。\"draft(吃水) \"是船的总重量，\"船员 \"是船上的人数。\n",
    "每个船员都会给船的吃水增加1.5个单位。如果除去船员的重量后，吃水仍然超过20，那么这艘船就值得掠夺。任何有这么重的船一定有很多战利品!\n",
    "添加方法\n",
    "`is_worth_it`\n",
    "来决定这艘船是否值得掠夺。\n",
    "\n",
    "例如：\n",
    "\n",
    "```python\n",
    "Titanic.is_worth_it()\n",
    "False\n",
    "```\n",
    "\n",
    "祝你好运，愿你能找到金子!\n",
    "\n",
    "代码提交地址：\n",
    "<https://www.codewars.com/kata/54fe05c4762e2e3047000add>"
   ]
  },
  {
   "cell_type": "code",
   "execution_count": 1,
   "metadata": {},
   "outputs": [],
   "source": [
    "class Ship:\n",
    "    def __init__(self, draft, crew):\n",
    "        self.draft = draft\n",
    "        self.crew = crew\n",
    "    def is_worth_it(self):\n",
    "        result=self.draft-self.crew*1.5\n",
    "        return result>20\n",
    "    # Your code here\n"
   ]
  },
  {
   "cell_type": "code",
   "execution_count": 2,
   "metadata": {},
   "outputs": [
    {
     "name": "stdout",
     "output_type": "stream",
     "text": [
      "False\n"
     ]
    }
   ],
   "source": [
    "#测试用例\n",
    "EmptyShip = Ship(0, 0)\n",
    "print(EmptyShip.is_worth_it())"
   ]
  },
  {
   "cell_type": "markdown",
   "metadata": {},
   "source": [
    "# 第二题： 搭建积木\n",
    "\n",
    "难度：7kyu\n",
    "\n",
    "写一个创建Block的类（Duh.）\n",
    "构造函数应该接受一个数组作为参数，这个数组将包含3个整数，其形式为`[width, length, height]`，Block应该由这些整数创建。\n",
    "\n",
    "定义这些方法:\n",
    "\n",
    "- `get_width()` return the width of the `Block`\n",
    "- `get_length()` return the length of the `Block`\n",
    "- `get_height()` return the height of the `Block`\n",
    "- `get_volume()` return the volume of the `Block`\n",
    "- `get_surface_area()` return the surface area of the `Block`\n",
    "\n",
    "例子：\n",
    "\n",
    "```python\n",
    "b = Block([2,4,6]) # create a `Block` object with a width of `2` a length of `4` and a height of `6`\n",
    "b.get_width() # return 2    \n",
    "b.get_length() # return 4\n",
    "b.get_height() # return 6\n",
    "b.get_volume() # return 48\n",
    "b.get_surface_area() # return 88\n",
    "```\n",
    "\n",
    "注意： 不需要检查错误的参数。\n",
    "\n",
    "代码提交地址：\n",
    "<https://www.codewars.com/kata/55b75fcf67e558d3750000a3>\n",
    "\n",
    "---"
   ]
  },
  {
   "cell_type": "code",
   "execution_count": 3,
   "metadata": {},
   "outputs": [],
   "source": [
    "class Block:  \n",
    "    def __init__(self, lists):  \n",
    "        self.width = lists[0] \n",
    "        self.length = lists[1]  \n",
    "        self.height = lists[2]\n",
    "    def get_width(self):  \n",
    "        return self.width  \n",
    "    def get_length(self):  \n",
    "        return self.length  \n",
    "    def get_height(self):  \n",
    "        return self.height\n",
    "    def get_volume(self):\n",
    "        return self.width*self.length*self.height\n",
    "    def get_surface_area(self):\n",
    "        return 2*(self.width*self.length+self.width*self.height+self.length*self.height)"
   ]
  },
  {
   "cell_type": "code",
   "execution_count": 4,
   "metadata": {},
   "outputs": [
    {
     "name": "stdout",
     "output_type": "stream",
     "text": [
      "8\n",
      "24\n",
      "2\n",
      "2\n",
      "2\n"
     ]
    }
   ],
   "source": [
    "#测试用例\n",
    "block1 = Block([2,2,2])\n",
    "print(block1.get_volume())\n",
    "print(block1.get_surface_area())\n",
    "print(block1.get_length())\n",
    "print(block1.get_width())\n",
    "print(block1.get_height())"
   ]
  },
  {
   "cell_type": "markdown",
   "metadata": {},
   "source": [
    "# 第三题： 分页助手\n",
    "\n",
    "难度：5kyu\n",
    "\n",
    "在这个练习中，你将加强对分页的掌握。你将完成PaginationHelper类，这是一个实用类，有助于查询与数组有关的分页信息。\n",
    "该类被设计成接收一个值的数组和一个整数，表示每页允许多少个项目。集合/数组中包含的值的类型并不相关。\n",
    "\n",
    "下面是一些关于如何使用这个类的例子：\n",
    "\n",
    "```python\n",
    "helper = PaginationHelper(['a','b','c','d','e','f'], 4)\n",
    "helper.page_count() # should == 2\n",
    "helper.item_count() # should == 6\n",
    "helper.page_item_count(0)  # should == 4\n",
    "helper.page_item_count(1) # last page - should == 2\n",
    "helper.page_item_count(2) # should == -1 since the page is invalid\n",
    "\n",
    "# page_index takes an item index and returns the page that it belongs on\n",
    "helper.page_index(5) # should == 1 (zero based index)\n",
    "helper.page_index(2) # should == 0\n",
    "helper.page_index(20) # should == -1\n",
    "helper.page_index(-10) # should == -1 because negative indexes are invalid\n",
    "```\n",
    "\n",
    "代码提交地址：\n",
    "<https://www.codewars.com/kata/515bb423de843ea99400000a>\n",
    "\n",
    "\n",
    "---"
   ]
  },
  {
   "cell_type": "code",
   "execution_count": null,
   "metadata": {},
   "outputs": [],
   "source": [
    "class PaginationHelper:\n",
    "    def _init_(self,arraylists,number):\n",
    "        self.arraylists=arraylists\n",
    "        self.number=number\n",
    "    def page_count(self):\n",
    "        return len(self.arraylists)//self.number#整除，小数部分会被忽略\n",
    "    def item_count(self):\n",
    "        return len(self.arraylists)\n",
    "    def page_item_count(self,page):\n",
    "        if page<0 or page>self.page_count():\n",
    "            return -1\n",
    "        return self.number\n",
    "    def page_index(self,item):\n",
    "        if item<0 or item>self.item_count():\n",
    "            return -1\n",
    "        return item//self.number\n"
   ]
  },
  {
   "cell_type": "markdown",
   "metadata": {},
   "source": [
    "# 第四题： 向量（Vector）类\n",
    "\n",
    "难度： 5kyu\n",
    "\n",
    "创建一个支持加法、减法、点积和向量长度的向量（Vector）类。\n",
    "\n",
    "举例来说：\n",
    "\n",
    "```python\n",
    "a = Vector([1, 2, 3])\n",
    "b = Vector([3, 4, 5])\n",
    "c = Vector([5, 6, 7, 8])\n",
    "\n",
    "a.add(b)      # should return a new Vector([4, 6, 8])\n",
    "a.subtract(b) # should return a new Vector([-2, -2, -2])\n",
    "a.dot(b)      # should return 1*3 + 2*4 + 3*5 = 26\n",
    "a.norm()      # should return sqrt(1^2 + 2^2 + 3^2) = sqrt(14)\n",
    "a.add(c)      # raises an exception\n",
    "```\n",
    "\n",
    "如果你试图对两个不同长度的向量进行加减或点缀，你必须抛出一个错误。\n",
    "向量类还应该提供：\n",
    "\n",
    "- 一个 `__str__` 方法，这样 `str(a) === '(1,2,3)'` \n",
    "- 一个equals方法，用来检查两个具有相同成分的向量是否相等。\n",
    "\n",
    "注意：测试案例将利用用户提供的equals方法。\n",
    "\n",
    "代码提交地址：\n",
    "<https://www.codewars.com/kata/526dad7f8c0eb5c4640000a4>\n",
    "\n",
    "---"
   ]
  },
  {
   "cell_type": "code",
   "execution_count": 14,
   "metadata": {},
   "outputs": [],
   "source": [
    "import math\n",
    "class Vector:\n",
    "    def __init__(self,lists):\n",
    "        self.lists=lists\n",
    "    def add(self,newlists):\n",
    "        return Vector([a+b for a,b in zip(self.lists,newlists)])\n",
    "    def subtract(self,newlists):\n",
    "        return Vector([a-b for a,b in zip(self.lists,newlists)])\n",
    "    def dot(self,newlists):\n",
    "        return sum([a*b for a,b in zip(self.lists,newlists)])\n",
    "    def norm(self):\n",
    "        return math.sqrt(self.dot(self))"
   ]
  },
  {
   "cell_type": "code",
   "execution_count": 13,
   "metadata": {},
   "outputs": [
    {
     "ename": "AttributeError",
     "evalue": "'Vector' object has no attribute 'lists'",
     "output_type": "error",
     "traceback": [
      "\u001b[1;31m---------------------------------------------------------------------------\u001b[0m",
      "\u001b[1;31mAttributeError\u001b[0m                            Traceback (most recent call last)",
      "\u001b[1;32md:\\Python_resources\\实验\\experiment7.ipynb Cell 12\u001b[0m line \u001b[0;36m4\n\u001b[0;32m      <a href='vscode-notebook-cell:/d%3A/Python_resources/%E5%AE%9E%E9%AA%8C/experiment7.ipynb#X13sZmlsZQ%3D%3D?line=1'>2</a>\u001b[0m a \u001b[39m=\u001b[39m Vector([\u001b[39m1\u001b[39m, \u001b[39m2\u001b[39m, \u001b[39m3\u001b[39m])\n\u001b[0;32m      <a href='vscode-notebook-cell:/d%3A/Python_resources/%E5%AE%9E%E9%AA%8C/experiment7.ipynb#X13sZmlsZQ%3D%3D?line=2'>3</a>\u001b[0m b \u001b[39m=\u001b[39m Vector([\u001b[39m3\u001b[39m, \u001b[39m4\u001b[39m, \u001b[39m5\u001b[39m])\n\u001b[1;32m----> <a href='vscode-notebook-cell:/d%3A/Python_resources/%E5%AE%9E%E9%AA%8C/experiment7.ipynb#X13sZmlsZQ%3D%3D?line=3'>4</a>\u001b[0m a\u001b[39m.\u001b[39;49mnorm() \u001b[39m==\u001b[39m math\u001b[39m.\u001b[39msqrt(\u001b[39m14\u001b[39m)\n\u001b[0;32m      <a href='vscode-notebook-cell:/d%3A/Python_resources/%E5%AE%9E%E9%AA%8C/experiment7.ipynb#X13sZmlsZQ%3D%3D?line=4'>5</a>\u001b[0m \u001b[39m#a.add(b)\u001b[39;00m\n",
      "\u001b[1;32md:\\Python_resources\\实验\\experiment7.ipynb Cell 12\u001b[0m line \u001b[0;36m1\n\u001b[0;32m     <a href='vscode-notebook-cell:/d%3A/Python_resources/%E5%AE%9E%E9%AA%8C/experiment7.ipynb#X13sZmlsZQ%3D%3D?line=10'>11</a>\u001b[0m \u001b[39mdef\u001b[39;00m \u001b[39mnorm\u001b[39m(\u001b[39mself\u001b[39m):\n\u001b[1;32m---> <a href='vscode-notebook-cell:/d%3A/Python_resources/%E5%AE%9E%E9%AA%8C/experiment7.ipynb#X13sZmlsZQ%3D%3D?line=11'>12</a>\u001b[0m     \u001b[39mreturn\u001b[39;00m math\u001b[39m.\u001b[39msqrt(\u001b[39mself\u001b[39;49m\u001b[39m.\u001b[39;49mdot(\u001b[39mself\u001b[39;49m))\n",
      "\u001b[1;32md:\\Python_resources\\实验\\experiment7.ipynb Cell 12\u001b[0m line \u001b[0;36m1\n\u001b[0;32m      <a href='vscode-notebook-cell:/d%3A/Python_resources/%E5%AE%9E%E9%AA%8C/experiment7.ipynb#X13sZmlsZQ%3D%3D?line=8'>9</a>\u001b[0m \u001b[39mdef\u001b[39;00m \u001b[39mdot\u001b[39m(\u001b[39mself\u001b[39m,lists):\n\u001b[1;32m---> <a href='vscode-notebook-cell:/d%3A/Python_resources/%E5%AE%9E%E9%AA%8C/experiment7.ipynb#X13sZmlsZQ%3D%3D?line=9'>10</a>\u001b[0m     \u001b[39mreturn\u001b[39;00m \u001b[39msum\u001b[39m([a\u001b[39m*\u001b[39mb \u001b[39mfor\u001b[39;00m a,b \u001b[39min\u001b[39;00m \u001b[39mzip\u001b[39m(\u001b[39mself\u001b[39;49m\u001b[39m.\u001b[39;49mlists,lists)])\n",
      "\u001b[1;31mAttributeError\u001b[0m: 'Vector' object has no attribute 'lists'"
     ]
    }
   ],
   "source": [
    "#测试用例\n",
    "a = Vector([1, 2, 3])\n",
    "b = Vector([3, 4, 5])\n",
    "a.norm() == math.sqrt(14)\n",
    "#a.add(b)"
   ]
  },
  {
   "cell_type": "markdown",
   "metadata": {},
   "source": [
    "# 第五题： Codewars风格的等级系统\n",
    "\n",
    "难度： 4kyu\n",
    "\n",
    "编写一个名为User的类，用于计算用户在类似于Codewars使用的排名系统中的进步量。\n",
    "\n",
    "业务规则：\n",
    "\n",
    "- 一个用户从等级-8开始，可以一直进步到8。\n",
    "- 没有0（零）等级。在-1之后的下一个等级是1。\n",
    "- 用户将完成活动。这些活动也有等级。\n",
    "- 每当用户完成一个有等级的活动，用户的等级进度就会根据活动的等级进行更新。\n",
    "- 完成活动获得的进度是相对于用户当前的等级与活动的等级而言的。\n",
    "- 用户的等级进度从零开始，每当进度达到100时，用户的等级就会升级到下一个等级。\n",
    "- 在上一等级时获得的任何剩余进度都将被应用于下一等级的进度（我们不会丢弃任何进度）。例外的情况是，如果没有其他等级的进展（一旦你达到8级，就没有更多的进展了）。\n",
    "- 一个用户不能超过8级。\n",
    "- 唯一可接受的等级值范围是-8,-7,-6,-5,-4,-3,-2,-1,1,2,3,4,5,6,7,8。任何其他的值都应该引起错误。\n",
    "\n",
    "逻辑案例：\n",
    "\n",
    "- 如果一个排名为-8的用户完成了一个排名为-7的活动，他们将获得10的进度。\n",
    "- 如果一个排名为-8的用户完成了排名为-6的活动，他们将获得40的进展。\n",
    "- 如果一个排名为-8的用户完成了排名为-5的活动，他们将获得90的进展。\n",
    "- 如果一个排名-8的用户完成了排名-4的活动，他们将获得160个进度，从而使该用户升级到排名-7，并获得60个进度以获得下一个排名。\n",
    "- 如果一个等级为-1的用户完成了一个等级为1的活动，他们将获得10个进度（记住，零等级会被忽略）。\n",
    "\n",
    "代码案例：\n",
    "\n",
    "```python\n",
    "user = User()\n",
    "user.rank # => -8\n",
    "user.progress # => 0\n",
    "user.inc_progress(-7)\n",
    "user.progress # => 10\n",
    "user.inc_progress(-5) # will add 90 progress\n",
    "user.progress # => 0 # progress is now zero\n",
    "user.rank # => -7 # rank was upgraded to -7\n",
    "```\n",
    "\n",
    "代码提交地址：\n",
    "<https://www.codewars.com/kata/51fda2d95d6efda45e00004e>\n",
    "\n",
    "---"
   ]
  },
  {
   "cell_type": "code",
   "execution_count": null,
   "metadata": {},
   "outputs": [],
   "source": [
    "class User:\n",
    "    def _init_(self):\n",
    "        return self.rank, self.progress\n",
    "    def inc_progress(self, activity_level):\n",
    "        if activity_level < -8 or activity_level > 8:\n",
    "            raise ValueError('Invalid activity level')\n",
    "        if activity_level < 0:\n",
    "            self.progress += 10 * (8 - activity_level)\n",
    "        elif activity_level == 0:\n",
    "            pass\n",
    "        else:\n",
    "            self.progress += 100\n",
    "        if self.progress >= 100:\n",
    "            self.rank += 1\n",
    "            self.progress -= 100\n",
    "    def __str__(self):\n",
    "        return f'rank: {self.rank}, progress: {self.progress}'\n",
    "    "
   ]
  }
 ],
 "metadata": {
  "kernelspec": {
   "display_name": "Python 3",
   "language": "python",
   "name": "python3"
  },
  "language_info": {
   "codemirror_mode": {
    "name": "ipython",
    "version": 3
   },
   "file_extension": ".py",
   "mimetype": "text/x-python",
   "name": "python",
   "nbconvert_exporter": "python",
   "pygments_lexer": "ipython3",
   "version": "3.11.5"
  }
 },
 "nbformat": 4,
 "nbformat_minor": 2
}
