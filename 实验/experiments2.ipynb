{
 "cells": [
  {
   "cell_type": "markdown",
   "metadata": {},
   "source": [
    "## 第2章 变量和简单的数据类型"
   ]
  },
  {
   "cell_type": "markdown",
   "metadata": {},
   "source": [
    "### 练习2.1: 简单消息 将一条消息赋给变量，并将其打印出来"
   ]
  },
  {
   "cell_type": "code",
   "execution_count": 1,
   "metadata": {},
   "outputs": [
    {
     "name": "stdout",
     "output_type": "stream",
     "text": [
      "hello world\n"
     ]
    }
   ],
   "source": [
    "message=\"hello world\"\n",
    "print(message)"
   ]
  },
  {
   "cell_type": "markdown",
   "metadata": {},
   "source": [
    "### 练习2.2：多条简单消息 将一条消息赋给变量，并将其打印出来；再将变量的值修改为一条新消息，并将其打印出来"
   ]
  },
  {
   "cell_type": "code",
   "execution_count": 2,
   "metadata": {},
   "outputs": [
    {
     "name": "stdout",
     "output_type": "stream",
     "text": [
      "hello world\n",
      "how are you\n"
     ]
    }
   ],
   "source": [
    "message=\"hello world\"\n",
    "print(message)\n",
    "message=\"how are you\"\n",
    "print(message)"
   ]
  },
  {
   "cell_type": "markdown",
   "metadata": {},
   "source": [
    "### 练习2.3：个性化消息 用变量表示一个人的名字，并向其显示一条消息。显示的消息应非常简单，如下所示。\n",
    "    Hello Eric,would you like to learn some Python today?"
   ]
  },
  {
   "cell_type": "code",
   "execution_count": 6,
   "metadata": {},
   "outputs": [
    {
     "name": "stdout",
     "output_type": "stream",
     "text": [
      "Hello Eric,would you like to learn some Python today?\n"
     ]
    }
   ],
   "source": [
    "name=\"Eric\"\n",
    "\n",
    "message=f\"Hello {name},would you like to learn some Python today?\"\n",
    "print(message)"
   ]
  },
  {
   "cell_type": "markdown",
   "metadata": {},
   "source": [
    "### 练习2.4：调整名字的大小写 用变量表示一个人的名字，再分别以全小写、全大写和首字母大写的方式显示这个人名。"
   ]
  },
  {
   "cell_type": "code",
   "execution_count": 9,
   "metadata": {},
   "outputs": [
    {
     "name": "stdout",
     "output_type": "stream",
     "text": [
      "eric\n",
      "ERIC\n",
      "Eric\n"
     ]
    }
   ],
   "source": [
    "name='eRic'\n",
    "print(name.lower())\n",
    "print(name.upper())\n",
    "print(name.title())\n"
   ]
  },
  {
   "cell_type": "markdown",
   "metadata": {},
   "source": [
    "### 练习2.5： 名言1 找到你钦佩的名人说的一句名言，将这个名人的姓名和名言打印出来。输出应类似与下面这样（包括引号）\n",
    "    Albert Einstein: \"A person who never made a mistake never tried anything new.\""
   ]
  },
  {
   "cell_type": "code",
   "execution_count": 19,
   "metadata": {},
   "outputs": [
    {
     "name": "stdout",
     "output_type": "stream",
     "text": [
      "Albert Einstein: \"A person who never made a mistake never tried anything new.\" \n"
     ]
    }
   ],
   "source": [
    "name=\"Albert Einstein\"\n",
    "saying = \"A person who never made a mistake never tried anything new.\"\n",
    "print(f\"{name}: \\\"{saying }\\\" \")"
   ]
  },
  {
   "cell_type": "markdown",
   "metadata": {},
   "source": [
    "### 练习2.6： 名言2 重复练习2.5，但是用变量famous_person表示名人的姓名，再创建要显示的消息并将其赋给变量message,然后打印这条消息。"
   ]
  },
  {
   "cell_type": "code",
   "execution_count": 20,
   "metadata": {},
   "outputs": [
    {
     "name": "stdout",
     "output_type": "stream",
     "text": [
      "Albert Einstein: \"A person who never made a mistake never tried anything new.\" \n"
     ]
    }
   ],
   "source": [
    "famous_person=\"Albert Einstein\"\n",
    "famous_saying = \"A person who never made a mistake never tried anything new.\"\n",
    "message=f\"{famous_person}: \\\"{famous_saying }\\\" \"\n",
    "print(message)"
   ]
  },
  {
   "cell_type": "markdown",
   "metadata": {},
   "source": [
    "### 练习2.7：删除人名中的空白用变量表示一个人的名字，并在其开头和末尾都包含一些空白字符。务必至少实验字符组合“\\t”和“\\n”各一次。\n",
    "### 打印这个，并显示其开头和末尾的空白。然后，分别实验函数lstrip()、rstrip()和strip()对人名进行处理，并将结果打印出来。"
   ]
  },
  {
   "cell_type": "code",
   "execution_count": 23,
   "metadata": {},
   "outputs": [
    {
     "name": "stdout",
     "output_type": "stream",
     "text": [
      "Eric  \n",
      " \n",
      "\t   Eric\n",
      "Eric\n"
     ]
    }
   ],
   "source": [
    "name=\"\\t   Eric  \\n \"\n",
    "print(name.lstrip())\n",
    "print(name.rstrip())\n",
    "print(name.strip())"
   ]
  },
  {
   "cell_type": "markdown",
   "metadata": {},
   "source": [
    "### 练习2.8：文件扩展名 Python提供了removesuffix()方法，其工作原理与removeprefix()很像。请将值'python_notes.txt'赋给变量filename，再使用removesuffix()方法来显示不包含扩展名的文件名，就像文件浏览器所做的那样。"
   ]
  },
  {
   "cell_type": "code",
   "execution_count": 21,
   "metadata": {},
   "outputs": [
    {
     "name": "stdout",
     "output_type": "stream",
     "text": [
      "python_notes\n"
     ]
    }
   ],
   "source": [
    "filename='python_notes.txt'\n",
    "print(filename.removesuffix('.txt'))"
   ]
  },
  {
   "cell_type": "markdown",
   "metadata": {},
   "source": [
    "### 练习2.9：数字8 编写4个表达式，分别使用加法、减法、乘法和除法运算符，但结果都是数字8。为了使用函数调用print()来显示结果，务必将这些表达式用括号括起来。也就是说，你应该编写4行类似于这样的代码：\n",
    "    print(5+3)"
   ]
  },
  {
   "cell_type": "code",
   "execution_count": 24,
   "metadata": {},
   "outputs": [
    {
     "name": "stdout",
     "output_type": "stream",
     "text": [
      "8\n",
      "8\n",
      "8\n",
      "8.0\n"
     ]
    }
   ],
   "source": [
    "print(5+3)\n",
    "print(10-2)\n",
    "print(4*2)\n",
    "print(16/2)"
   ]
  },
  {
   "cell_type": "markdown",
   "metadata": {},
   "source": [
    "### 练习2.10：最喜欢的数 用一个变量来表示你最喜欢的数，再使用这个变量创建一条消息，指出你最喜欢的数是什么，然后将这条消息打印出来。"
   ]
  },
  {
   "cell_type": "code",
   "execution_count": 25,
   "metadata": {},
   "outputs": [
    {
     "name": "stdout",
     "output_type": "stream",
     "text": [
      "My favorite number is 10\n"
     ]
    }
   ],
   "source": [
    "number=10\n",
    "print(f\"My favorite number is {number}\")"
   ]
  },
  {
   "cell_type": "markdown",
   "metadata": {},
   "source": [
    "## 第3章 列表简介"
   ]
  },
  {
   "cell_type": "markdown",
   "metadata": {},
   "source": [
    "### 练习3.1：姓名 将一些朋友的姓名存储在一个列表中，将其命名为names。依次访问该列表的每个元素，从而将每个朋友的姓名都打印出来。"
   ]
  },
  {
   "cell_type": "code",
   "execution_count": 1,
   "metadata": {},
   "outputs": [
    {
     "name": "stdout",
     "output_type": "stream",
     "text": [
      "Albert\n",
      "Einstein\n",
      "Marie\n",
      "Curie\n",
      "Tsung-Dao\n",
      "Lee\n"
     ]
    }
   ],
   "source": [
    "names=[\"Albert\",\"Einstein\",\"Marie\",\"Curie\",\"Tsung-Dao\",\"Lee\"]\n",
    "for name in names:\n",
    "    print(name)"
   ]
  },
  {
   "cell_type": "markdown",
   "metadata": {},
   "source": [
    "### 练习3.2：问候语 继续使用练习3.1中的列表，但不打印每个朋友的姓名，而是为每个人打印一条消息。每条消息都包含相同的问候语，但抬头为相应朋友的名字。"
   ]
  },
  {
   "cell_type": "code",
   "execution_count": 4,
   "metadata": {},
   "outputs": [
    {
     "name": "stdout",
     "output_type": "stream",
     "text": [
      "Albert,how are you\n",
      "Einstein,how are you\n",
      "Marie,how are you\n",
      "Curie,how are you\n",
      "Tsung-Dao,how are you\n",
      "Lee,how are you\n"
     ]
    }
   ],
   "source": [
    "for name in names:\n",
    "    print(f\"{name},how are you\")"
   ]
  },
  {
   "cell_type": "markdown",
   "metadata": {},
   "source": [
    "### 练习3.3：自己的列表 想想你喜欢的通勤方式，如骑摩托车或开汽车，并创建一个包含多种通勤方式的列表。根据该列表打印一系列有关这些通勤方式的陈述，如下列所示。\n",
    "      I would like to own a Honda motorcycle."
   ]
  },
  {
   "cell_type": "code",
   "execution_count": 5,
   "metadata": {},
   "outputs": [
    {
     "name": "stdout",
     "output_type": "stream",
     "text": [
      "I would like to own a Honda motorcycle.\n",
      "I would like to own a car.\n"
     ]
    }
   ],
   "source": [
    "ways=[\"Honda motorcycle\",\"car\"]\n",
    "for way in ways:\n",
    "    print(f\"I would like to own a {way}.\")"
   ]
  },
  {
   "cell_type": "markdown",
   "metadata": {},
   "source": [
    "### 练习3.4：嘉宾名单 如果你可以邀请任何人一起共进晚餐（无论是在世的或故去的）且不需要付费，你会邀请哪些人？创建一个列表，其中包含至少三个你想邀请的人，然后使用这个列表打印消息，邀请这些人都来和你共进晚餐。"
   ]
  },
  {
   "cell_type": "code",
   "execution_count": 8,
   "metadata": {},
   "outputs": [
    {
     "name": "stdout",
     "output_type": "stream",
     "text": [
      "Albert,please come to my dinner\n",
      "Einstein,please come to my dinner\n",
      "Marie,please come to my dinner\n"
     ]
    }
   ],
   "source": [
    "guests=[\"Albert\",\"Einstein\",\"Marie\"]\n",
    "for person in guests:\n",
    "    print(f\"{person},please come to my dinner\")"
   ]
  },
  {
   "cell_type": "markdown",
   "metadata": {},
   "source": [
    "### 练习3.5：修改嘉宾名单 你刚得知有位嘉宾无法赴约，因此需要另外邀请一位嘉宾。\n",
    "   &emsp;以完成练习3.4时编写的程序为基础，在程序末尾添加函数调用print()，指出哪位嘉宾无法赴约。  \n",
    "   &emsp;修改嘉宾名单，将无法赴约的嘉宾的姓名替换为新邀请的嘉宾的姓名。  \n",
    "   &emsp;再次打印一系列消息，向名单中的每位嘉宾发出邀请。  "
   ]
  },
  {
   "cell_type": "code",
   "execution_count": 13,
   "metadata": {},
   "outputs": [
    {
     "name": "stdout",
     "output_type": "stream",
     "text": [
      "Sorry to hear that Albert can not attend\n",
      "Mary,please come to my dinner\n",
      "Einstein,please come to my dinner\n",
      "Marie,please come to my dinner\n"
     ]
    }
   ],
   "source": [
    "cannot_attend=\"Albert\"\n",
    "guests=[\"Albert\",\"Einstein\",\"Marie\"]\n",
    "print(f\"Sorry to hear that {cannot_attend} can not attend\")\n",
    "new_guest=\"Mary\"\n",
    "guests[guests.index(cannot_attend)]=new_guest\n",
    "for guest in guests:\n",
    "    print(f\"{guest},please come to my dinner\")\n"
   ]
  },
  {
   "cell_type": "markdown",
   "metadata": {},
   "source": [
    "### 练习3.6：添加嘉宾名单 你刚找到了一个更大的餐桌，可容纳更多的嘉宾就座。请想想你还想邀请哪三位嘉宾。\n",
    " &emsp; 以完成练习3.4或练习3.5时编写的程序为基础，在成名末尾田间函数调用print(),指出你找到了一条更大的餐桌。  \n",
    "     &emsp;&emsp;使用insert()将一位新嘉宾添加到名单的开头  \n",
    "     &emsp;&emsp;使用insert()将另一位新嘉宾添加到名单的中间  \n",
    "     &emsp;&emsp;使用append()将最后一位新嘉宾添加到名单末尾  \n",
    "     &emsp;&emsp;打印一系列消息，向名单上的每位嘉宾发出邀请。\n"
   ]
  },
  {
   "cell_type": "code",
   "execution_count": 14,
   "metadata": {},
   "outputs": [
    {
     "name": "stdout",
     "output_type": "stream",
     "text": [
      "I found a bigger table\n",
      "Jane,please come to my dinner\n",
      "Albert,please come to my dinner\n",
      "Mary,please come to my dinner\n",
      "Einstein,please come to my dinner\n",
      "Marie,please come to my dinner\n",
      "Jack,please come to my dinner\n"
     ]
    }
   ],
   "source": [
    "print(\"I found a bigger table\")\n",
    "guests=[\"Albert\",\"Einstein\",\"Marie\"]\n",
    "guests.insert(0,\"Jane\")#在列表开头添加元素\n",
    "guests.insert(2,\"Mary\")#在列表中间添加元素\n",
    "guests.append(\"Jack\")#在列表末尾添加元素\n",
    "for guest in guests:\n",
    "    print(f\"{guest},please come to my dinner\")"
   ]
  },
  {
   "cell_type": "markdown",
   "metadata": {},
   "source": [
    "### 练习3.7：缩短名单 你刚得知新购买的餐桌无法及时到大，因此只能邀请两位嘉宾\n",
    "  &emsp;以完成练习3.6时编写的程序为基础，在程序末尾添加一行代码，打印一条你只能邀请两位嘉宾的消息。  \n",
    "  &emsp;使用pop()不断删除名单上的嘉宾，直到只有两位嘉宾为止。每次从名单上弹出一位嘉宾时，都打印一条消息，让该嘉宾知道你很抱歉，无法邀请他来共进晚餐。  \n",
    "  &emsp;对于余下两位嘉宾中的每一位，都打印一条消息，指出他仍然在受邀人之列。  \n",
    "  &emsp;使用del将最后两位嘉宾从名单中删除，让名单变成空的。打印该名单，合适名单在程序结束时确实是空的\n"
   ]
  },
  {
   "cell_type": "code",
   "execution_count": 20,
   "metadata": {},
   "outputs": [
    {
     "name": "stdout",
     "output_type": "stream",
     "text": [
      "Sorry!I can only invite two guests\n",
      "Sorry Jack,I can not invite you\n",
      "Sorry Marie,I can not invite you\n",
      "Sorry Einstein,I can not invite you\n",
      "Sorry Mary,I can not invite you\n",
      "Dear Jane, You are still invited to my dinner!\n",
      "Dear Albert, You are still invited to my dinner!\n",
      "[]\n"
     ]
    }
   ],
   "source": [
    "print(\"Sorry!I can only invite two guests\")\n",
    "guests=[\"Jane\",\"Albert\",\"Mary\",\"Einstein\",\"Marie\",\"Jack\"]\n",
    "while len(guests)>2:\n",
    "    print(f\"Sorry {guests.pop()},I can not invite you\")\n",
    "for guest in guests:\n",
    "    print(f\"Dear {guest}, You are still invited to my dinner!\")\n",
    "del guests[:]#删除列表里面所有的元素\n",
    "print(guests)"
   ]
  },
  {
   "cell_type": "markdown",
   "metadata": {},
   "source": [
    "### 练习3.8：放眼世界 想出至少5个你想去旅游的地方。\n",
    "  &emsp;将这些地方存储在一个列表中，并确保其中的元素不是按字母顺序排列的。  \n",
    "  &emsp;按原始排序顺序打印该列表。不要考虑输出是否整洁，只管打印原始Python列表就好。  \n",
    "  &emsp;使用sorted()按字母顺序打印这个列表，不要修改它。  \n",
    "  &emsp;再次打印该列表，核实排列顺序未变。  \n",
    "  &emsp;使用sorted()按与字母顺序相反的顺序打印这个列表，不要修改它。  \n",
    "  &emsp;再次打印，核实排列顺序未变。  \n",
    "  &emsp;使用reverse()修改列表元素的排列顺序。打印该列表，核实排列顺序确实变了。  \n",
    "  &emsp;使用reverse()再次修改列表元素的排列顺序。打印该列表，核实排列顺序又恢复到原来的排序列表。  \n",
    "  &emsp;使用sort()修改该列表，使其元素按字母顺序排列。打印该列表，核实排列顺序确实变了。  \n",
    "  &emsp;使用sort()修改该列表，使其元素按与字母顺序相反的顺序排列。打印该列表，核实排列顺序确实变了。"
   ]
  },
  {
   "cell_type": "code",
   "execution_count": 25,
   "metadata": {},
   "outputs": [
    {
     "name": "stdout",
     "output_type": "stream",
     "text": [
      "['Beijing', 'Shanghai', 'Guangzhou', 'Shenzhen', 'HongKong', 'Macao']\n",
      "['Beijing', 'Guangzhou', 'HongKong', 'Macao', 'Shanghai', 'Shenzhen']\n",
      "['Beijing', 'Shanghai', 'Guangzhou', 'Shenzhen', 'HongKong', 'Macao']\n",
      "['Shenzhen', 'Shanghai', 'Macao', 'HongKong', 'Guangzhou', 'Beijing']\n",
      "['Beijing', 'Shanghai', 'Guangzhou', 'Shenzhen', 'HongKong', 'Macao']\n",
      "['Macao', 'HongKong', 'Shenzhen', 'Guangzhou', 'Shanghai', 'Beijing']\n",
      "['Beijing', 'Shanghai', 'Guangzhou', 'Shenzhen', 'HongKong', 'Macao']\n",
      "['Beijing', 'Guangzhou', 'HongKong', 'Macao', 'Shanghai', 'Shenzhen']\n",
      "['Shenzhen', 'Shanghai', 'Macao', 'HongKong', 'Guangzhou', 'Beijing']\n"
     ]
    }
   ],
   "source": [
    "cities=[\"Beijing\",\"Shanghai\",\"Guangzhou\",\"Shenzhen\",\"HongKong\",\"Macao\"]\n",
    "print(cities)\n",
    "print(sorted(cities))#使用sorted()按字母顺序打印这个列表\n",
    "print(cities)\n",
    "print(sorted(cities,reverse=True))#使用sorted()按字母顺序相反的顺序打印这个列表\n",
    "print(cities)\n",
    "cities.reverse()#修改列表元素的排列顺序,反转列表元素的排列顺序\n",
    "print(cities)\n",
    "cities.reverse()#再次修改列表元素的排列顺序。打印该列表，核实排列顺序又恢复到原来的排序列表\n",
    "print(cities)\n",
    "cities.sort()#修改该列表，使其元素按字母顺序排列\n",
    "print(cities)\n",
    "cities.sort(reverse=True)#修改该列表，使其元素按与字母顺序相反的顺序排列\n",
    "print(cities)"
   ]
  },
  {
   "cell_type": "markdown",
   "metadata": {},
   "source": [
    "### 练习3.9：晚餐嘉宾 选择你为完成练习3.4~练习3.7而编写的一个程序，在其中使用len()打印一条消息，指出你邀请了多少位嘉宾来共进晚餐"
   ]
  },
  {
   "cell_type": "code",
   "execution_count": 27,
   "metadata": {},
   "outputs": [
    {
     "name": "stdout",
     "output_type": "stream",
     "text": [
      "You have invited 6 guests to have dinner\n"
     ]
    }
   ],
   "source": [
    "guests=[\"Jane\",\"Albert\",\"Mary\",\"Einstein\",\"Marie\",\"Jack\"]#练习3.6邀请的嘉宾\n",
    "print(f\"You have invited {len(guests)} guests to have dinner\")"
   ]
  },
  {
   "cell_type": "markdown",
   "metadata": {},
   "source": [
    "### 练习3.10：尝试使用各个函数 想想可存储到列表中的东西，如山川、河流、国家、城市、语言或你喜欢的任何东西。编写一个程序，在其中创建一个包含这些元素的列表。然后，至少把本章介绍的每个函数都使用依次来处理这个列表。"
   ]
  },
  {
   "cell_type": "code",
   "execution_count": 34,
   "metadata": {},
   "outputs": [
    {
     "name": "stdout",
     "output_type": "stream",
     "text": [
      "The number of lists is 6!\n",
      "['City', 'Country', 'Language', 'Love', 'Mountains', 'Rivers']\n",
      "['Rivers', 'Mountains', 'Love', 'Language', 'Country', 'City']\n",
      "['Love', 'Language', 'City', 'Country', 'Rivers', 'Mountains']\n",
      "['City', 'Country', 'Language', 'Love', 'Mountains', 'Rivers']\n",
      "['Rivers', 'Mountains', 'Love', 'Language', 'Country', 'City']\n",
      "['Rivers', 'Mountains', 'Language', 'Country', 'City']\n",
      "['Rivers', 'Mountains', 'Country', 'City']\n",
      "['Rivers', 'Mountains', 'Country']\n",
      "['Rivers', 'Country']\n",
      "['Rivers', 'Country', 'Mountain']\n",
      "['Rivers', 'Stars', 'Country', 'Mountain']\n",
      "['Rivers', 'Animal', 'Country', 'Mountain']\n"
     ]
    }
   ],
   "source": [
    "lists=[\"Mountains\",\"Rivers\",\"Country\",\"City\",\"Language\",\"Love\"]\n",
    "print(f\"The number of lists is {len(lists)}!\")#队列长度\n",
    "print(sorted(lists))#按照字母顺进行打印\n",
    "print(sorted(lists,reverse=True))#使用sorted函数对列表按照字母顺序相反的顺序进行打印\n",
    "lists.reverse()#利用reverse()函数反省打印列表\n",
    "print(lists)\n",
    "lists.sort()#sort()方法按字母升序排序\n",
    "print(lists)\n",
    "lists.sort(reverse=True)#sort(reverse=True)方法按字母降序排序\n",
    "print(lists)\n",
    "lists.remove(\"Love\")#删除Love\n",
    "print(lists)\n",
    "lists.pop(2)#pop(i)删除位置i的元素\n",
    "print(lists)\n",
    "lists.pop()#删除列表末尾元素\n",
    "print(lists)\n",
    "del lists[1]#删除第二个元素\n",
    "print(lists)\n",
    "lists.append('Mountain')#在列表末尾添加元素\n",
    "print(lists)\n",
    "lists.insert(1,'Stars')#在列表任意位置插入元素\n",
    "print(lists)\n",
    "lists[1]='Animal'#修改列表元素\n",
    "print(lists)"
   ]
  },
  {
   "cell_type": "markdown",
   "metadata": {},
   "source": [
    "### 练习3.11：有意引发错误 如果你还没有在程序中遇到索引错误，就尝试引发一个这种错误吧。在你的一个程序中修改索引，以引发索引错误。在关闭程序前，务必消除这种错误。"
   ]
  },
  {
   "cell_type": "code",
   "execution_count": 39,
   "metadata": {},
   "outputs": [
    {
     "name": "stdout",
     "output_type": "stream",
     "text": [
      "5\n"
     ]
    }
   ],
   "source": [
    "my_list=[1,2,3,4,5]\n",
    "#试图访问列表中第七个元素，这个将引发索引错误\n",
    "#print(my_list[6])\n",
    "#修改后\n",
    "print(my_list[4])"
   ]
  }
 ],
 "metadata": {
  "kernelspec": {
   "display_name": "Python 3",
   "language": "python",
   "name": "python3"
  },
  "language_info": {
   "codemirror_mode": {
    "name": "ipython",
    "version": 3
   },
   "file_extension": ".py",
   "mimetype": "text/x-python",
   "name": "python",
   "nbconvert_exporter": "python",
   "pygments_lexer": "ipython3",
   "version": "3.11.5"
  }
 },
 "nbformat": 4,
 "nbformat_minor": 2
}
