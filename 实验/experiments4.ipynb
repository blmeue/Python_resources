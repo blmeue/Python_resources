{
 "cells": [
  {
   "cell_type": "markdown",
   "metadata": {},
   "source": [
    "# 第一题：淘气还是乖孩子（Naughty or Nice）"
   ]
  },
  {
   "cell_type": "code",
   "execution_count": 2,
   "metadata": {},
   "outputs": [],
   "source": [
    "def naughty_or_nice(data):\n",
    "    count1=0\n",
    "    count2=0\n",
    "    for month in data:\n",
    "        for day in data[month].keys():\n",
    "            if data[month][day]== 'Naughty':\n",
    "                count1+=1\n",
    "            else:\n",
    "                count2+=1\n",
    "                \n",
    "    if count1<=count2:\n",
    "        return 'Nice!'\n",
    "    else:\n",
    "        return 'Naughty!'\n",
    "    #return  'Naughty!"
   ]
  },
  {
   "cell_type": "code",
   "execution_count": 5,
   "metadata": {},
   "outputs": [
    {
     "data": {
      "text/plain": [
       "'Nice!'"
      ]
     },
     "execution_count": 5,
     "metadata": {},
     "output_type": "execute_result"
    }
   ],
   "source": [
    "#naughty_or_nice({\"January\": {\"1\": \"Naughty\", \"2\": \"Nice\", \"3\": \"Naughty\", \"4\": \"Nice\", \"5\": \"Nice\", \"6\": \"Nice\", \"7\": \"Naughty\", \"8\": \"Nice\", \"9\": \"Nice\", \"10\": \"Naughty\", \"11\": \"Nice\", \"12\": \"Nice\", \"13\": \"Nice\", \"14\": \"Naughty\", \"15\": \"Naughty\", \"16\": \"Naughty\", \"17\": \"Nice\", \"18\": \"Nice\", \"19\": \"Naughty\", \"20\": \"Nice\", \"21\": \"Naughty\", \"22\": \"Nice\", \"23\": \"Naughty\", \"24\": \"Nice\", \"25\": \"Naughty\", \"26\": \"Nice\", \"27\": \"Nice\", \"28\": \"Naughty\", \"29\": \"Nice\", \"30\": \"Nice\", \"31\": \"Nice\"}, \"February\": {\"1\": \"Nice\", \"2\": \"Naughty\", \"3\": \"Nice\", \"4\": \"Nice\", \"5\": \"Nice\", \"6\": \"Nice\", \"7\": \"Nice\", \"8\": \"Nice\", \"9\": \"Naughty\", \"10\": \"Naughty\", \"11\": \"Naughty\", \"12\": \"Nice\", \"13\": \"Nice\", \"14\": \"Naughty\", \"15\": \"Naughty\", \"16\": \"Nice\", \"17\": \"Nice\", \"18\": \"Naughty\", \"19\": \"Nice\", \"20\": \"Nice\", \"21\": \"Nice\", \"22\": \"Nice\", \"23\": \"Nice\", \"24\": \"Naughty\", \"25\": \"Naughty\", \"26\": \"Nice\", \"27\": \"Naughty\", \"28\": \"Nice\"}, \"March\": {\"1\": \"Nice\", \"2\": \"Naughty\", \"3\": \"Nice\", \"4\": \"Nice\", \"5\": \"Nice\", \"6\": \"Naughty\", \"7\": \"Nice\", \"8\": \"Nice\", \"9\": \"Nice\", \"10\": \"Naughty\", \"11\": \"Naughty\", \"12\": \"Nice\", \"13\": \"Naughty\", \"14\": \"Naughty\", \"15\": \"Naughty\", \"16\": \"Nice\", \"17\": \"Nice\", \"18\": \"Nice\", \"19\": \"Naughty\", \"20\": \"Nice\", \"21\": \"Naughty\", \"22\": \"Naughty\", \"23\": \"Nice\", \"24\": \"Nice\", \"25\": \"Nice\", \"26\": \"Nice\", \"27\": \"Nice\", \"28\": \"Naughty\", \"29\": \"Nice\", \"30\": \"Nice\", \"31\": \"Naughty\"}, \"April\": {\"1\": \"Naughty\", \"2\": \"Naughty\", \"3\": \"Nice\", \"4\": \"Nice\", \"5\": \"Nice\", \"6\": \"Naughty\", \"7\": \"Naughty\", \"8\": \"Nice\", \"9\": \"Nice\", \"10\": \"Nice\", \"11\": \"Nice\", \"12\": \"Nice\", \"13\": \"Naughty\", \"14\": \"Nice\", \"15\": \"Naughty\", \"16\": \"Naughty\", \"17\": \"Nice\", \"18\": \"Naughty\", \"19\": \"Nice\", \"20\": \"Naughty\", \"21\": \"Naughty\", \"22\": \"Nice\", \"23\": \"Nice\", \"24\": \"Naughty\", \"25\": \"Nice\", \"26\": \"Naughty\", \"27\": \"Naughty\", \"28\": \"Nice\", \"29\": \"Nice\", \"30\": \"Nice\"}, \"May\": {\"1\": \"Nice\", \"2\": \"Naughty\", \"3\": \"Naughty\", \"4\": \"Nice\", \"5\": \"Nice\", \"6\": \"Nice\", \"7\": \"Naughty\", \"8\": \"Nice\", \"9\": \"Nice\", \"10\": \"Nice\", \"11\": \"Naughty\", \"12\": \"Naughty\", \"13\": \"Naughty\", \"14\": \"Naughty\", \"15\": \"Nice\", \"16\": \"Naughty\", \"17\": \"Naughty\", \"18\": \"Nice\", \"19\": \"Nice\", \"20\": \"Nice\", \"21\": \"Nice\", \"22\": \"Nice\", \"23\": \"Naughty\", \"24\": \"Naughty\", \"25\": \"Nice\", \"26\": \"Nice\", \"27\": \"Nice\", \"28\": \"Naughty\", \"29\": \"Naughty\", \"30\": \"Naughty\", \"31\": \"Nice\"}, \"June\": {\"1\": \"Naughty\", \"2\": \"Nice\", \"3\": \"Naughty\", \"4\": \"Nice\", \"5\": \"Naughty\", \"6\": \"Nice\", \"7\": \"Nice\", \"8\": \"Nice\", \"9\": \"Nice\", \"10\": \"Naughty\", \"11\": \"Naughty\", \"12\": \"Nice\", \"13\": \"Nice\", \"14\": \"Naughty\", \"15\": \"Nice\", \"16\": \"Naughty\", \"17\": \"Naughty\", \"18\": \"Naughty\", \"19\": \"Nice\", \"20\": \"Nice\", \"21\": \"Nice\", \"22\": \"Nice\", \"23\": \"Nice\", \"24\": \"Nice\", \"25\": \"Nice\", \"26\": \"Nice\", \"27\": \"Nice\", \"28\": \"Nice\", \"29\": \"Naughty\", \"30\": \"Nice\"}, \"July\": {\"1\": \"Nice\", \"2\": \"Nice\", \"3\": \"Nice\", \"4\": \"Naughty\", \"5\": \"Nice\", \"6\": \"Nice\", \"7\": \"Nice\", \"8\": \"Nice\", \"9\": \"Naughty\", \"10\": \"Nice\", \"11\": \"Nice\", \"12\": \"Naughty\", \"13\": \"Nice\", \"14\": \"Naughty\", \"15\": \"Nice\", \"16\": \"Nice\", \"17\": \"Naughty\", \"18\": \"Nice\", \"19\": \"Naughty\", \"20\": \"Nice\", \"21\": \"Nice\", \"22\": \"Nice\", \"23\": \"Nice\", \"24\": \"Naughty\", \"25\": \"Naughty\", \"26\": \"Nice\", \"27\": \"Naughty\", \"28\": \"Naughty\", \"29\": \"Nice\", \"30\": \"Nice\", \"31\": \"Nice\"}, \"August\": {\"1\": \"Naughty\", \"2\": \"Nice\", \"3\": \"Naughty\", \"4\": \"Nice\", \"5\": \"Nice\", \"6\": \"Nice\", \"7\": \"Nice\", \"8\": \"Nice\", \"9\": \"Naughty\", \"10\": \"Naughty\", \"11\": \"Nice\", \"12\": \"Naughty\", \"13\": \"Nice\", \"14\": \"Naughty\", \"15\": \"Nice\", \"16\": \"Nice\", \"17\": \"Naughty\", \"18\": \"Nice\", \"19\": \"Naughty\", \"20\": \"Nice\", \"21\": \"Nice\", \"22\": \"Naughty\", \"23\": \"Naughty\", \"24\": \"Naughty\", \"25\": \"Naughty\", \"26\": \"Nice\", \"27\": \"Nice\", \"28\": \"Nice\", \"29\": \"Naughty\", \"30\": \"Naughty\", \"31\": \"Nice\"}, \"September\": {\"1\": \"Naughty\", \"2\": \"Nice\", \"3\": \"Naughty\", \"4\": \"Nice\", \"5\": \"Nice\", \"6\": \"Nice\", \"7\": \"Nice\", \"8\": \"Naughty\", \"9\": \"Naughty\", \"10\": \"Nice\", \"11\": \"Naughty\", \"12\": \"Naughty\", \"13\": \"Nice\", \"14\": \"Naughty\", \"15\": \"Nice\", \"16\": \"Nice\", \"17\": \"Nice\", \"18\": \"Nice\", \"19\": \"Nice\", \"20\": \"Naughty\", \"21\": \"Nice\", \"22\": \"Nice\", \"23\": \"Nice\", \"24\": \"Nice\", \"25\": \"Nice\", \"26\": \"Naughty\", \"27\": \"Nice\", \"28\": \"Nice\", \"29\": \"Naughty\", \"30\": \"Nice\"}, \"October\": {\"1\": \"Nice\", \"2\": \"Naughty\", \"3\": \"Naughty\", \"4\": \"Naughty\", \"5\": \"Naughty\", \"6\": \"Nice\", \"7\": \"Nice\", \"8\": \"Naughty\", \"9\": \"Nice\", \"10\": \"Nice\", \"11\": \"Naughty\", \"12\": \"Nice\", \"13\": \"Nice\", \"14\": \"Nice\", \"15\": \"Nice\", \"16\": \"Nice\", \"17\": \"Naughty\", \"18\": \"Naughty\", \"19\": \"Nice\", \"20\": \"Nice\", \"21\": \"Naughty\", \"22\": \"Nice\", \"23\": \"Nice\", \"24\": \"Naughty\", \"25\": \"Nice\", \"26\": \"Nice\", \"27\": \"Nice\", \"28\": \"Naughty\", \"29\": \"Naughty\", \"30\": \"Nice\", \"31\": \"Nice\"}, \"November\": {\"1\": \"Naughty\", \"2\": \"Nice\", \"3\": \"Naughty\", \"4\": \"Nice\", \"5\": \"Nice\", \"6\": \"Nice\", \"7\": \"Nice\", \"8\": \"Nice\", \"9\": \"Nice\", \"10\": \"Nice\", \"11\": \"Nice\", \"12\": \"Naughty\", \"13\": \"Naughty\", \"14\": \"Naughty\", \"15\": \"Naughty\", \"16\": \"Nice\", \"17\": \"Naughty\", \"18\": \"Nice\", \"19\": \"Nice\", \"20\": \"Nice\", \"21\": \"Naughty\", \"22\": \"Naughty\", \"23\": \"Nice\", \"24\": \"Naughty\", \"25\": \"Naughty\", \"26\": \"Nice\", \"27\": \"Nice\", \"28\": \"Nice\", \"29\": \"Nice\", \"30\": \"Naughty\"}, \"December\": {\"1\": \"Nice\", \"2\": \"Nice\", \"3\": \"Nice\", \"4\": \"Naughty\", \"5\": \"Nice\", \"6\": \"Naughty\", \"7\": \"Nice\", \"8\": \"Naughty\", \"9\": \"Nice\", \"10\": \"Naughty\", \"11\": \"Naughty\", \"12\": \"Naughty\", \"13\": \"Naughty\", \"14\": \"Naughty\", \"15\": \"Naughty\", \"16\": \"Nice\", \"17\": \"Nice\", \"18\": \"Nice\", \"19\": \"Naughty\", \"20\": \"Nice\", \"21\": \"Naughty\", \"22\": \"Naughty\", \"23\": \"Nice\", \"24\": \"Nice\", \"25\": \"Naughty\", \"26\": \"Nice\", \"27\": \"Nice\", \"28\": \"Nice\", \"29\": \"Nice\", \"30\": \"Nice\", \"31\": \"Nice\"}})\n",
    "\n",
    "naughty_or_nice({\n",
    "    'January': {\n",
    "        '1': 'Naughty','2': 'Naughty',  '31': 'Nice'\n",
    "    },\n",
    "    'February': {\n",
    "        '1': 'Nice','2': 'Naughty',  '28': 'Nice'\n",
    "    },\n",
    "    \n",
    "    'December': {\n",
    "        '1': 'Nice','2': 'Nice', '31': 'Naughty'\n",
    "    }\n",
    "})"
   ]
  },
  {
   "cell_type": "markdown",
   "metadata": {},
   "source": [
    "# 第二题： 观察到的PIN（The observed PIN）"
   ]
  },
  {
   "cell_type": "code",
   "execution_count": 6,
   "metadata": {},
   "outputs": [],
   "source": [
    "# 利用iterools的product函数，得到所有可能的组合\n",
    "from itertools import product\n",
    "def get_pins(observed):\n",
    "    observed_dict={'1':['1','2','4'],'2':['1','2','3','5'],\n",
    "                '3':['2','3','6'],'4':['1','4','5','7'],\n",
    "                '5':['2','4','5','6','8'],'6':['3','5','6','9'],\n",
    "                '7':['4','7','8'],'8':['0','5','7','8','9'],\n",
    "                '9':['6','8','9'],'0':['0','8']\n",
    "                }\n",
    "    nested_list=[]\n",
    "    if not observed:\n",
    "        return nested_list\n",
    "    for digit in observed:\n",
    "        nested_list.append(observed_dict[digit])\n",
    "    #二维数组转为若干个一维数组：加个*号\n",
    "    #*nested_list\n",
    "    return [''.join(item) for item in product(*nested_list)]"
   ]
  },
  {
   "cell_type": "code",
   "execution_count": 13,
   "metadata": {},
   "outputs": [
    {
     "name": "stdout",
     "output_type": "stream",
     "text": [
      "['0', '5', '7', '8', '9']\n",
      "['11', '12', '14', '21', '22', '24', '41', '42', '44']\n",
      "['136', '138', '139', '156', '158', '159', '166', '168', '169', '196', '198', '199', '236', '238', '239', '256', '258', '259', '266', '268', '269', '296', '298', '299', '336', '338', '339', '356', '358', '359', '366', '368', '369', '396', '398', '399', '536', '538', '539', '556', '558', '559', '566', '568', '569', '596', '598', '599']\n"
     ]
    }
   ],
   "source": [
    "\n",
    "test_cases=['8','11','269']\n",
    "for i in test_cases:\n",
    "    print(get_pins(i))"
   ]
  },
  {
   "cell_type": "markdown",
   "metadata": {},
   "source": [
    "# 第三题： RNA到蛋白质序列的翻译（RNA to Protein Sequence Translation）"
   ]
  },
  {
   "cell_type": "code",
   "execution_count": 14,
   "metadata": {},
   "outputs": [],
   "source": [
    "def protein(rna):\n",
    "    ret=[]\n",
    "    # Your dictionary is provided as PROTEIN_DICT\n",
    "    PROTEIN_DICT = {\n",
    "    # Phenylalanine\n",
    "    'UUC': 'F', 'UUU': 'F',\n",
    "    # Leucine\n",
    "    'UUA': 'L', 'UUG': 'L', 'CUU': 'L', 'CUC': 'L', 'CUA': 'L', 'CUG': 'L',\n",
    "    # Isoleucine\n",
    "    'AUU': 'I', 'AUC': 'I', 'AUA': 'I',\n",
    "    # Methionine\n",
    "    'AUG': 'M',\n",
    "    # Valine\n",
    "    'GUU': 'V', 'GUC': 'V', 'GUA': 'V', 'GUG': 'V',\n",
    "    # Serine\n",
    "    'UCU': 'S', 'UCC': 'S', 'UCA': 'S', 'UCG': 'S', 'AGU': 'S', 'AGC': 'S',\n",
    "    # Proline\n",
    "    'CCU': 'P', 'CCC': 'P', 'CCA': 'P', 'CCG': 'P',\n",
    "    # Threonine\n",
    "    'ACU': 'T', 'ACC': 'T', 'ACA': 'T', 'ACG': 'T',\n",
    "    # Alanine\n",
    "    'GCU': 'A', 'GCC': 'A', 'GCA': 'A', 'GCG': 'A',\n",
    "    # Tyrosine\n",
    "    'UAU': 'Y', 'UAC': 'Y',\n",
    "    # Histidine\n",
    "    'CAU': 'H', 'CAC': 'H',\n",
    "    # Glutamine\n",
    "    'CAA': 'Q', 'CAG': 'Q',\n",
    "    # Asparagine\n",
    "    'AAU': 'N', 'AAC': 'N',\n",
    "    # Lysine\n",
    "    'AAA': 'K', 'AAG': 'K',\n",
    "    # Aspartic Acid\n",
    "    'GAU': 'D', 'GAC': 'D',\n",
    "    # Glutamic Acid\n",
    "    'GAA': 'E', 'GAG': 'E',\n",
    "    # Cystine\n",
    "    'UGU': 'C', 'UGC': 'C',\n",
    "    # Tryptophan\n",
    "    'UGG': 'W',\n",
    "    # Arginine\n",
    "    'CGU': 'R', 'CGC': 'R', 'CGA': 'R', 'CGG': 'R', 'AGA': 'R', 'AGG': 'R',\n",
    "    # Glycine\n",
    "    'GGU': 'G', 'GGC': 'G', 'GGA': 'G', 'GGG': 'G',\n",
    "    # Stop codon\n",
    "    'UAA': 'Stop', 'UGA': 'Stop', 'UAG': 'Stop'\n",
    "    }\n",
    "    i=0\n",
    "    # return rna[i:i+3]\n",
    "    while i<len(rna)-2:\n",
    "        str= rna[i:i+3]\n",
    "        \n",
    "        if str in PROTEIN_DICT.keys():\n",
    "            i+=3\n",
    "            #return PROTEIN_DICT[str]\n",
    "            if PROTEIN_DICT[str]=='Stop':\n",
    "                break\n",
    "            ret+= PROTEIN_DICT[str]   \n",
    "        else:\n",
    "            i+=1\n",
    "    return ''.join(ret)"
   ]
  },
  {
   "cell_type": "code",
   "execution_count": 18,
   "metadata": {},
   "outputs": [
    {
     "name": "stdout",
     "output_type": "stream",
     "text": [
      "M\n",
      "M\n",
      "MVS\n",
      "CDEWARS\n",
      "MSFHQGNHARSAF\n",
      "MLQVHWKRRGKTS\n",
      "MAFSFLWRVVYPC\n",
      "MQLSMEGSVNYHA\n",
      "MLWRVVLTTTPST\n",
      "MYPSIKETMRVQLSMEGSVNYHAFKCTGKGEGKPYEGTQSLNITITEGGPLPFAFDILSHAFQYGIKVFAKYPKEIPDFFKQSLPGGFSWERVSTYEDGGVLSATQETSLQGDCIICKVKVLGTNFPANGPVMQKKTCGWEPSTETVIPRDGGLLLRDTPALMLADGGHLSCFMETTYKSKKEVKLPELHFHHLRMEKLNISDDWKTVEQHESVVASYSQVPSKLGHN\n"
     ]
    }
   ],
   "source": [
    "test=['AUG','AUGUGA','AUGGUUAGUUGA','UGCGAUGAAUGGGCUCGCUCC','AUGUCCUUCCAUCAAGGAAACCAUGCGCGUUCAGCUUUCUGA',\n",
    "    'AUGCUUCAAGUGCACUGGAAAAGGAGAGGGAAAACCAGUUGA','AUGGCGUUCAGCUUUCUAUGGAGGGUAGUGUACCCAUGCUGA',\n",
    "    'AUGCAGCUUUCUAUGGAGGGUAGUGUUAACUACCACGCCUGA','AUGCUAUGGAGGGUAGUGUUAACUACCACGCCCAGUACUUGA',\n",
    "    'AUGUAUCCUUCCAUCAAGGAAACCAUGCGCGUUCAGCUUUCUAUGGAGGGUAGUGUUAACUACCACGCCUUCAAGUGCACUGGAAAAGGAGAGGGAAAACCAUACGAAGGCACCCAAAGCCUGAAUAUUACAAUAACUGAAGGAGGUCCUCUGCCAUUUGCUUUUGACAUUCUGUCACACGCCUUUCAGUAUGGCAUCAAGGUCUUCGCCAAGUACCCCAAAGAAAUUCCUGACUUCUUUAAGCAGUCUCUACCUGGUGGUUUUUCUUGGGAAAGAGUAAGCACCUAUGAAGAUGGAGGAGUGCUUUCAGCUACCCAAGAAACAAGUUUGCAGGGUGAUUGCAUCAUCUGCAAAGUUAAAGUCCUUGGCACCAAUUUUCCCGCAAACGGUCCAGUGAUGCAAAAGAAGACCUGUGGAUGGGAGCCAUCAACUGAAACAGUCAUCCCACGAGAUGGUGGACUUCUGCUUCGCGAUACCCCCGCACUUAUGCUGGCUGACGGAGGUCAUCUUUCUUGCUUCAUGGAAACAACUUACAAGUCGAAGAAAGAGGUAAAGCUUCCAGAACUUCACUUUCAUCAUUUGCGUAUGGAAAAGCUGAACAUAAGUGACGAUUGGAAGACCGUUGAGCAGCACGAGUCUGUGGUGGCUAGCUACUCCCAAGUGCCUUCGAAAUUAGGACAUAACUGA']\n",
    "for i in test:\n",
    "    print(protein(i))"
   ]
  },
  {
   "cell_type": "markdown",
   "metadata": {},
   "source": [
    "# 第四题： 填写订单（Thinkful - Dictionary drills: Order filler）"
   ]
  },
  {
   "cell_type": "code",
   "execution_count": 19,
   "metadata": {},
   "outputs": [],
   "source": [
    "def fillable(stock, merch, n):\n",
    "    if merch in stock.keys():#判断merch是否存在\n",
    "        if n<= stock[merch]:\n",
    "            return True\n",
    "    return False"
   ]
  },
  {
   "cell_type": "code",
   "execution_count": 21,
   "metadata": {},
   "outputs": [
    {
     "name": "stdout",
     "output_type": "stream",
     "text": [
      "True\n",
      "False\n",
      "False\n"
     ]
    }
   ],
   "source": [
    "stock = {\n",
    "            'football': 4,\n",
    "            'boardgame': 10,\n",
    "            'leggos': 1,\n",
    "            'doll': 5 }\n",
    "print(fillable(stock, 'football', 3))\n",
    "print(fillable(stock, 'leggos', 2))\n",
    "print(fillable(stock, 'action figure', 1))"
   ]
  },
  {
   "cell_type": "markdown",
   "metadata": {},
   "source": [
    "# 第五题： 莫尔斯码解码器（Decode the Morse code, advanced）"
   ]
  },
  {
   "cell_type": "code",
   "execution_count": 86,
   "metadata": {},
   "outputs": [],
   "source": [
    "def decode_bits(bits):\n",
    "    bits = bits.strip(\"0\")\n",
    "    unit = 0\n",
    "    for bit in bits:\n",
    "        if bit != \"0\":\n",
    "            unit += 1\n",
    "        else:\n",
    "            break\n",
    "    #unit now might be 1 unit or 3 units\n",
    "    count = 1\n",
    "    #寻找最小时间单位\n",
    "    for i in range(1,len(bits)):\n",
    "        if bits[i] == bits[i-1]:\n",
    "            count += 1\n",
    "        else:\n",
    "            if count < unit:\n",
    "                unit = count\n",
    "                count = 1\n",
    "            else:\n",
    "                count = 1\n",
    "    morse_code = \"\"\n",
    "    \n",
    "    words = bits.split(\"0\"*7*unit)#单词间的暂停 \n",
    "    for word in words:\n",
    "        characters = word.split(\"0\"*3*unit)#单词内字符之间的暂停\n",
    "        for character in characters:\n",
    "            signs = character.split(\"0\"*unit)#字符内点和划之间的暂停\n",
    "            for sign in signs:\n",
    "                if sign == \"1\"*3*unit:\n",
    "                    morse_code += \"-\"\n",
    "                else:\n",
    "                    morse_code += \".\"\n",
    "            morse_code += \" \"\n",
    "        morse_code += \"   \"\n",
    "    return morse_code\n",
    "            \n",
    "\n",
    "\n",
    "def decode_morse(morse_code):\n",
    "    morse_code.strip()\n",
    "    MORSE_CODE = {\n",
    "        '.-': 'A', '-...': 'B', '-.-.': 'C', '-..': 'D', '.': 'E', '..-.': 'F', '--.': 'G', '....': 'H',\n",
    "        '..': 'I', '.---': 'J', '-.-': 'K', '.-..': 'L', '--': 'M', '-.': 'N', '---': 'O', '.--.': 'P',\n",
    "        '--.-': 'Q', '.-.': 'R', '...': 'S', '-': 'T', '..-': 'U', '...-': 'V', '.--': 'W', '-..-': 'X',\n",
    "        '-.--': 'Y', '--..': 'Z', '-----': '0', '.----': '1', '..---': '2', '...--': '3', '....-': '4',\n",
    "        '.....': '5', '-....': '6', '--...': '7', '---..': '8', '----.': '9', '.-.-.-': '.', '--..--': ',',\n",
    "        '..--..': '?', '.----.': \"'\", '-.-.--': '!', '-..-.': '/', '-.--.': '(', '-.--.-': ')', '.-...': '&',\n",
    "        '---...': ':', '-.-.-.': ';', '-...-': '=', '.-.-.': '+', '-....-': '-', '..--.-': '_', '.-..-.': '\"',\n",
    "        '...-..-': '$', '.--.-.': '@', '': ' '\n",
    "    }\n",
    "    result = \"\"\n",
    "    characters = morse_code.split(\" \")\n",
    "    for character in characters:\n",
    "        if character != \"\":\n",
    "            result += MORSE_CODE[character]\n",
    "        else:\n",
    "            result += \" \"\n",
    "    return ' '.join(result.split())\n"
   ]
  },
  {
   "cell_type": "code",
   "execution_count": 87,
   "metadata": {},
   "outputs": [
    {
     "data": {
      "text/plain": [
       "'HEY JUDE'"
      ]
     },
     "execution_count": 87,
     "metadata": {},
     "output_type": "execute_result"
    }
   ],
   "source": [
    "decode_morse(decode_bits('1100110011001100000011000000111111001100111111001111110000000000000011001111110011111100111111000000110011001111110000001111110011001100000011'))"
   ]
  },
  {
   "cell_type": "code",
   "execution_count": 81,
   "metadata": {},
   "outputs": [],
   "source": [
    "def decode_bits(bits):\n",
    "    bits = bits.strip('0')  # 去除开头和结尾的额外0\n",
    "\n",
    "    # 找到最小时间单位\n",
    "    min_unit_length = min(len(m) for m in bits.split('0') + bits.split('1') if m)\n",
    "\n",
    "    # 将比特串分割成时间单位长度的序列\n",
    "    decoded_bits = bits.replace('111' * min_unit_length, '-').replace('000' * min_unit_length, ' ').replace('1' * min_unit_length, '.').replace('0' * min_unit_length, '')\n",
    "\n",
    "    return decoded_bits\n",
    "\n",
    "\n",
    "def decode_morse(morseCode):\n",
    "    MORSE_CODE_DICT = {\n",
    "        '.-': 'A', '-...': 'B', '-.-.': 'C', '-..': 'D', '.': 'E', '..-.': 'F', '--.': 'G', '....': 'H',\n",
    "        '..': 'I', '.---': 'J', '-.-': 'K', '.-..': 'L', '--': 'M', '-.': 'N', '---': 'O', '.--.': 'P',\n",
    "        '--.-': 'Q', '.-.': 'R', '...': 'S', '-': 'T', '..-': 'U', '...-': 'V', '.--': 'W', '-..-': 'X',\n",
    "        '-.--': 'Y', '--..': 'Z', '-----': '0', '.----': '1', '..---': '2', '...--': '3', '....-': '4',\n",
    "        '.....': '5', '-....': '6', '--...': '7', '---..': '8', '----.': '9', '.-.-.-': '.', '--..--': ',',\n",
    "        '..--..': '?', '.----.': \"'\", '-.-.--': '!', '-..-.': '/', '-.--.': '(', '-.--.-': ')', '.-...': '&',\n",
    "        '---...': ':', '-.-.-.': ';', '-...-': '=', '.-.-.': '+', '-....-': '-', '..--.-': '_', '.-..-.': '\"',\n",
    "        '...-..-': '$', '.--.-.': '@', '': ' '\n",
    "    }\n",
    "\n",
    "    morse_words = morseCode.strip().split('   ')\n",
    "    decoded_message = ''\n",
    "    for word in morse_words:\n",
    "        chars = word.split(' ')\n",
    "        for char in chars:\n",
    "            decoded_message += MORSE_CODE_DICT[char]\n",
    "        decoded_message += ' '\n",
    "\n",
    "    return decoded_message.strip()\n",
    "\n",
    "\n"
   ]
  },
  {
   "cell_type": "markdown",
   "metadata": {},
   "source": [
    "# 第六章"
   ]
  },
  {
   "cell_type": "markdown",
   "metadata": {},
   "source": [
    "### 练习6.1： 人   使用一个字典来存储一个人的信息，包括名、姓、年龄和居住的城市。该字典应包括键first_name、last_name、age和city。将存储在该字典中的每项信息都打印出来。"
   ]
  },
  {
   "cell_type": "code",
   "execution_count": 1,
   "metadata": {},
   "outputs": [
    {
     "name": "stdout",
     "output_type": "stream",
     "text": [
      "{'first_name': 'Jack', 'last_name': 'Jackson', 'age': '18', 'city': 'Beijing'}\n"
     ]
    }
   ],
   "source": [
    "peopel={'first_name':'Jack','last_name':'Jackson','age':'18','city':'Beijing'}\n",
    "print(peopel)"
   ]
  },
  {
   "cell_type": "markdown",
   "metadata": {},
   "source": [
    "### 练习6.2： 喜欢的数1  使用一个字典来存储一些人喜欢的数。请相处五个人的名字，并将这些名字用作字典中的键。再想出每个人喜欢的一个数，并将这些数作为值存储在字典中。打印每个人的名字和喜欢的数。为了让这个程序更有趣，通过询问保存数据是真实的。"
   ]
  },
  {
   "cell_type": "code",
   "execution_count": 5,
   "metadata": {},
   "outputs": [
    {
     "name": "stdout",
     "output_type": "stream",
     "text": [
      "What's is you favorite number?\n",
      "Jack:1\n",
      "Mary:2\n",
      "Lucy:3\n",
      "Tom:4\n",
      "Jerry:5\n"
     ]
    }
   ],
   "source": [
    "people={'Jack':'1','Mary':'2','Lucy':'3','Tom':'4','Jerry':'5'}\n",
    "print(\"What's is you favorite number?\")\n",
    "print(f\"Jack:{people['Jack']}\")\n",
    "print(f\"Mary:{people['Mary']}\")\n",
    "print(f\"Lucy:{people['Lucy']}\")\n",
    "print(f\"Tom:{people['Tom']}\")\n",
    "print(f\"Jerry:{people['Jerry']}\")"
   ]
  },
  {
   "cell_type": "markdown",
   "metadata": {},
   "source": [
    "### 练习6.3： 词汇表1  Python字典可用于模拟"
   ]
  }
 ],
 "metadata": {
  "kernelspec": {
   "display_name": "Python 3",
   "language": "python",
   "name": "python3"
  },
  "language_info": {
   "codemirror_mode": {
    "name": "ipython",
    "version": 3
   },
   "file_extension": ".py",
   "mimetype": "text/x-python",
   "name": "python",
   "nbconvert_exporter": "python",
   "pygments_lexer": "ipython3",
   "version": "3.11.5"
  }
 },
 "nbformat": 4,
 "nbformat_minor": 2
}
